{
  "nbformat": 4,
  "nbformat_minor": 0,
  "metadata": {
    "colab": {
      "name": "tensorflow-stock-prediction.ipynb",
      "provenance": [],
      "authorship_tag": "ABX9TyPV94RimcgD9tsM0pnzmmpD",
      "include_colab_link": true
    },
    "kernelspec": {
      "name": "python3",
      "display_name": "Python 3"
    },
    "language_info": {
      "name": "python"
    }
  },
  "cells": [
    {
      "cell_type": "markdown",
      "metadata": {
        "id": "view-in-github",
        "colab_type": "text"
      },
      "source": [
        "<a href=\"https://colab.research.google.com/github/dwoolworth/tensorflow-stock-prediction/blob/main/tensorflow_stock_prediction.ipynb\" target=\"_parent\"><img src=\"https://colab.research.google.com/assets/colab-badge.svg\" alt=\"Open In Colab\"/></a>"
      ]
    },
    {
      "cell_type": "code",
      "metadata": {
        "id": "qeKyxfKWPqWs"
      },
      "source": [
        "# Using artificial recurrent neural network (RNN) called Long Short-Term Memory\n",
        "# (LSTM) to predict the closing stock price of a corporation using the past\n",
        "# X days' stock price.\n",
        "import math\n",
        "import pandas_datareader as web\n",
        "import numpy as np\n",
        "import pandas as pd\n",
        "from sklearn.preprocessing import MinMaxScaler\n",
        "from keras.models import Sequential\n",
        "from keras.layers import Dense, LSTM\n",
        "import matplotlib.pyplot as plt\n",
        "plt.style.use('fivethirtyeight')\n",
        "pd.set_option('max_rows', 50)\n",
        "pd.set_option('display.max_rows', 50)\n",
        "pd.set_option('min_rows', 30)\n",
        "pd.set_option('max_columns', None)\n",
        "pd.set_option('display.max_columns', None)\n",
        "\n",
        "# Analyzing big companies like IBM or ATT, etc. this model will have good,\n",
        "# predictable results. Those entities are not in the media, not typically\n",
        "# suceptible to things other than the economy or factors that impact all stocks.\n",
        "# AI is great with predictable patterns.  So we need to work on predicting/\n",
        "# foretelling smaller companies with potential more volatility given other\n",
        "# outside factors such as news, politics, etc.\n",
        "\n",
        "stock_ticker = 'STM'\n",
        "\n",
        "start_date = '2017-01-01'\n",
        "end_date = '2021-04-01'\n",
        "\n",
        "# Play with training days because this is where potentially shorter intervals\n",
        "# may yield better predictions.\n",
        "training_days = 60\n",
        "\n",
        "# Another factor to adjust given the amount of data available for the stock,\n",
        "# we'll default to 80% of data to train with, 20% of data to test with\n",
        "percent_of_data_to_train = .90\n"
      ],
      "execution_count": 2,
      "outputs": []
    },
    {
      "cell_type": "code",
      "metadata": {
        "colab": {
          "base_uri": "https://localhost:8080/",
          "height": 1000
        },
        "id": "knC9qsvrQCai",
        "outputId": "b03c18aa-a181-4886-923d-d07093009d4f"
      },
      "source": [
        "# Get the stock quote\n",
        "df = web.DataReader(stock_ticker, data_source='yahoo', start=start_date, end=end_date)\n",
        "# Get the data\n",
        "df"
      ],
      "execution_count": 3,
      "outputs": [
        {
          "output_type": "execute_result",
          "data": {
            "text/html": [
              "<div>\n",
              "<style scoped>\n",
              "    .dataframe tbody tr th:only-of-type {\n",
              "        vertical-align: middle;\n",
              "    }\n",
              "\n",
              "    .dataframe tbody tr th {\n",
              "        vertical-align: top;\n",
              "    }\n",
              "\n",
              "    .dataframe thead th {\n",
              "        text-align: right;\n",
              "    }\n",
              "</style>\n",
              "<table border=\"1\" class=\"dataframe\">\n",
              "  <thead>\n",
              "    <tr style=\"text-align: right;\">\n",
              "      <th></th>\n",
              "      <th>High</th>\n",
              "      <th>Low</th>\n",
              "      <th>Open</th>\n",
              "      <th>Close</th>\n",
              "      <th>Volume</th>\n",
              "      <th>Adj Close</th>\n",
              "    </tr>\n",
              "    <tr>\n",
              "      <th>Date</th>\n",
              "      <th></th>\n",
              "      <th></th>\n",
              "      <th></th>\n",
              "      <th></th>\n",
              "      <th></th>\n",
              "      <th></th>\n",
              "    </tr>\n",
              "  </thead>\n",
              "  <tbody>\n",
              "    <tr>\n",
              "      <th>2017-01-03</th>\n",
              "      <td>11.160000</td>\n",
              "      <td>10.850000</td>\n",
              "      <td>11.150000</td>\n",
              "      <td>10.980000</td>\n",
              "      <td>3119500.0</td>\n",
              "      <td>10.476607</td>\n",
              "    </tr>\n",
              "    <tr>\n",
              "      <th>2017-01-04</th>\n",
              "      <td>10.940000</td>\n",
              "      <td>10.770000</td>\n",
              "      <td>10.770000</td>\n",
              "      <td>10.880000</td>\n",
              "      <td>3756200.0</td>\n",
              "      <td>10.381189</td>\n",
              "    </tr>\n",
              "    <tr>\n",
              "      <th>2017-01-05</th>\n",
              "      <td>11.110000</td>\n",
              "      <td>10.910000</td>\n",
              "      <td>10.920000</td>\n",
              "      <td>10.940000</td>\n",
              "      <td>2395900.0</td>\n",
              "      <td>10.438438</td>\n",
              "    </tr>\n",
              "    <tr>\n",
              "      <th>2017-01-06</th>\n",
              "      <td>10.820000</td>\n",
              "      <td>10.670000</td>\n",
              "      <td>10.730000</td>\n",
              "      <td>10.790000</td>\n",
              "      <td>3057800.0</td>\n",
              "      <td>10.295317</td>\n",
              "    </tr>\n",
              "    <tr>\n",
              "      <th>2017-01-09</th>\n",
              "      <td>11.220000</td>\n",
              "      <td>10.990000</td>\n",
              "      <td>10.990000</td>\n",
              "      <td>11.150000</td>\n",
              "      <td>3582800.0</td>\n",
              "      <td>10.638809</td>\n",
              "    </tr>\n",
              "    <tr>\n",
              "      <th>2017-01-10</th>\n",
              "      <td>11.380000</td>\n",
              "      <td>11.220000</td>\n",
              "      <td>11.220000</td>\n",
              "      <td>11.290000</td>\n",
              "      <td>2198000.0</td>\n",
              "      <td>10.772392</td>\n",
              "    </tr>\n",
              "    <tr>\n",
              "      <th>2017-01-11</th>\n",
              "      <td>11.470000</td>\n",
              "      <td>11.280000</td>\n",
              "      <td>11.320000</td>\n",
              "      <td>11.460000</td>\n",
              "      <td>2163700.0</td>\n",
              "      <td>10.934600</td>\n",
              "    </tr>\n",
              "    <tr>\n",
              "      <th>2017-01-12</th>\n",
              "      <td>11.410000</td>\n",
              "      <td>11.290000</td>\n",
              "      <td>11.320000</td>\n",
              "      <td>11.400000</td>\n",
              "      <td>2451900.0</td>\n",
              "      <td>10.877349</td>\n",
              "    </tr>\n",
              "    <tr>\n",
              "      <th>2017-01-13</th>\n",
              "      <td>11.670000</td>\n",
              "      <td>11.530000</td>\n",
              "      <td>11.540000</td>\n",
              "      <td>11.630000</td>\n",
              "      <td>1899100.0</td>\n",
              "      <td>11.096806</td>\n",
              "    </tr>\n",
              "    <tr>\n",
              "      <th>2017-01-17</th>\n",
              "      <td>11.570000</td>\n",
              "      <td>11.360000</td>\n",
              "      <td>11.550000</td>\n",
              "      <td>11.410000</td>\n",
              "      <td>1945000.0</td>\n",
              "      <td>10.886892</td>\n",
              "    </tr>\n",
              "    <tr>\n",
              "      <th>2017-01-18</th>\n",
              "      <td>11.550000</td>\n",
              "      <td>11.380000</td>\n",
              "      <td>11.380000</td>\n",
              "      <td>11.450000</td>\n",
              "      <td>2615800.0</td>\n",
              "      <td>10.925057</td>\n",
              "    </tr>\n",
              "    <tr>\n",
              "      <th>2017-01-19</th>\n",
              "      <td>11.630000</td>\n",
              "      <td>11.450000</td>\n",
              "      <td>11.460000</td>\n",
              "      <td>11.590000</td>\n",
              "      <td>2834600.0</td>\n",
              "      <td>11.058639</td>\n",
              "    </tr>\n",
              "    <tr>\n",
              "      <th>2017-01-20</th>\n",
              "      <td>11.650000</td>\n",
              "      <td>11.540000</td>\n",
              "      <td>11.540000</td>\n",
              "      <td>11.610000</td>\n",
              "      <td>2370100.0</td>\n",
              "      <td>11.077721</td>\n",
              "    </tr>\n",
              "    <tr>\n",
              "      <th>2017-01-23</th>\n",
              "      <td>11.700000</td>\n",
              "      <td>11.540000</td>\n",
              "      <td>11.630000</td>\n",
              "      <td>11.680000</td>\n",
              "      <td>3698300.0</td>\n",
              "      <td>11.144513</td>\n",
              "    </tr>\n",
              "    <tr>\n",
              "      <th>2017-01-24</th>\n",
              "      <td>12.040000</td>\n",
              "      <td>11.810000</td>\n",
              "      <td>11.820000</td>\n",
              "      <td>11.990000</td>\n",
              "      <td>8494300.0</td>\n",
              "      <td>11.440300</td>\n",
              "    </tr>\n",
              "    <tr>\n",
              "      <th>...</th>\n",
              "      <td>...</td>\n",
              "      <td>...</td>\n",
              "      <td>...</td>\n",
              "      <td>...</td>\n",
              "      <td>...</td>\n",
              "      <td>...</td>\n",
              "    </tr>\n",
              "    <tr>\n",
              "      <th>2021-03-12</th>\n",
              "      <td>35.810001</td>\n",
              "      <td>35.049999</td>\n",
              "      <td>35.290001</td>\n",
              "      <td>35.750000</td>\n",
              "      <td>1760500.0</td>\n",
              "      <td>35.709538</td>\n",
              "    </tr>\n",
              "    <tr>\n",
              "      <th>2021-03-15</th>\n",
              "      <td>36.509998</td>\n",
              "      <td>35.689999</td>\n",
              "      <td>35.970001</td>\n",
              "      <td>36.500000</td>\n",
              "      <td>2083400.0</td>\n",
              "      <td>36.458691</td>\n",
              "    </tr>\n",
              "    <tr>\n",
              "      <th>2021-03-16</th>\n",
              "      <td>36.919998</td>\n",
              "      <td>36.310001</td>\n",
              "      <td>36.430000</td>\n",
              "      <td>36.400002</td>\n",
              "      <td>2436700.0</td>\n",
              "      <td>36.358807</td>\n",
              "    </tr>\n",
              "    <tr>\n",
              "      <th>2021-03-17</th>\n",
              "      <td>37.160000</td>\n",
              "      <td>36.000000</td>\n",
              "      <td>36.200001</td>\n",
              "      <td>36.990002</td>\n",
              "      <td>2142700.0</td>\n",
              "      <td>36.948139</td>\n",
              "    </tr>\n",
              "    <tr>\n",
              "      <th>2021-03-18</th>\n",
              "      <td>36.480000</td>\n",
              "      <td>35.630001</td>\n",
              "      <td>36.330002</td>\n",
              "      <td>35.630001</td>\n",
              "      <td>1949200.0</td>\n",
              "      <td>35.589676</td>\n",
              "    </tr>\n",
              "    <tr>\n",
              "      <th>2021-03-19</th>\n",
              "      <td>37.320000</td>\n",
              "      <td>35.959999</td>\n",
              "      <td>36.259998</td>\n",
              "      <td>37.110001</td>\n",
              "      <td>4509100.0</td>\n",
              "      <td>37.068001</td>\n",
              "    </tr>\n",
              "    <tr>\n",
              "      <th>2021-03-22</th>\n",
              "      <td>38.520000</td>\n",
              "      <td>37.430000</td>\n",
              "      <td>37.529999</td>\n",
              "      <td>38.230000</td>\n",
              "      <td>3252700.0</td>\n",
              "      <td>38.230000</td>\n",
              "    </tr>\n",
              "    <tr>\n",
              "      <th>2021-03-23</th>\n",
              "      <td>38.020000</td>\n",
              "      <td>36.910000</td>\n",
              "      <td>37.980000</td>\n",
              "      <td>37.009998</td>\n",
              "      <td>1889000.0</td>\n",
              "      <td>37.009998</td>\n",
              "    </tr>\n",
              "    <tr>\n",
              "      <th>2021-03-24</th>\n",
              "      <td>37.330002</td>\n",
              "      <td>36.680000</td>\n",
              "      <td>37.209999</td>\n",
              "      <td>36.689999</td>\n",
              "      <td>1840600.0</td>\n",
              "      <td>36.689999</td>\n",
              "    </tr>\n",
              "    <tr>\n",
              "      <th>2021-03-25</th>\n",
              "      <td>37.279999</td>\n",
              "      <td>36.369999</td>\n",
              "      <td>36.590000</td>\n",
              "      <td>37.090000</td>\n",
              "      <td>2208000.0</td>\n",
              "      <td>37.090000</td>\n",
              "    </tr>\n",
              "    <tr>\n",
              "      <th>2021-03-26</th>\n",
              "      <td>38.590000</td>\n",
              "      <td>37.439999</td>\n",
              "      <td>37.439999</td>\n",
              "      <td>38.590000</td>\n",
              "      <td>1872300.0</td>\n",
              "      <td>38.590000</td>\n",
              "    </tr>\n",
              "    <tr>\n",
              "      <th>2021-03-29</th>\n",
              "      <td>38.060001</td>\n",
              "      <td>37.369999</td>\n",
              "      <td>37.950001</td>\n",
              "      <td>37.770000</td>\n",
              "      <td>1896800.0</td>\n",
              "      <td>37.770000</td>\n",
              "    </tr>\n",
              "    <tr>\n",
              "      <th>2021-03-30</th>\n",
              "      <td>37.639999</td>\n",
              "      <td>37.040001</td>\n",
              "      <td>37.209999</td>\n",
              "      <td>37.439999</td>\n",
              "      <td>1552800.0</td>\n",
              "      <td>37.439999</td>\n",
              "    </tr>\n",
              "    <tr>\n",
              "      <th>2021-03-31</th>\n",
              "      <td>38.599998</td>\n",
              "      <td>37.759998</td>\n",
              "      <td>37.770000</td>\n",
              "      <td>38.330002</td>\n",
              "      <td>1539100.0</td>\n",
              "      <td>38.330002</td>\n",
              "    </tr>\n",
              "    <tr>\n",
              "      <th>2021-04-01</th>\n",
              "      <td>39.360001</td>\n",
              "      <td>38.740002</td>\n",
              "      <td>38.750000</td>\n",
              "      <td>39.349998</td>\n",
              "      <td>1604400.0</td>\n",
              "      <td>39.349998</td>\n",
              "    </tr>\n",
              "  </tbody>\n",
              "</table>\n",
              "<p>1069 rows × 6 columns</p>\n",
              "</div>"
            ],
            "text/plain": [
              "                 High        Low       Open      Close     Volume  Adj Close\n",
              "Date                                                                        \n",
              "2017-01-03  11.160000  10.850000  11.150000  10.980000  3119500.0  10.476607\n",
              "2017-01-04  10.940000  10.770000  10.770000  10.880000  3756200.0  10.381189\n",
              "2017-01-05  11.110000  10.910000  10.920000  10.940000  2395900.0  10.438438\n",
              "2017-01-06  10.820000  10.670000  10.730000  10.790000  3057800.0  10.295317\n",
              "2017-01-09  11.220000  10.990000  10.990000  11.150000  3582800.0  10.638809\n",
              "2017-01-10  11.380000  11.220000  11.220000  11.290000  2198000.0  10.772392\n",
              "2017-01-11  11.470000  11.280000  11.320000  11.460000  2163700.0  10.934600\n",
              "2017-01-12  11.410000  11.290000  11.320000  11.400000  2451900.0  10.877349\n",
              "2017-01-13  11.670000  11.530000  11.540000  11.630000  1899100.0  11.096806\n",
              "2017-01-17  11.570000  11.360000  11.550000  11.410000  1945000.0  10.886892\n",
              "2017-01-18  11.550000  11.380000  11.380000  11.450000  2615800.0  10.925057\n",
              "2017-01-19  11.630000  11.450000  11.460000  11.590000  2834600.0  11.058639\n",
              "2017-01-20  11.650000  11.540000  11.540000  11.610000  2370100.0  11.077721\n",
              "2017-01-23  11.700000  11.540000  11.630000  11.680000  3698300.0  11.144513\n",
              "2017-01-24  12.040000  11.810000  11.820000  11.990000  8494300.0  11.440300\n",
              "...               ...        ...        ...        ...        ...        ...\n",
              "2021-03-12  35.810001  35.049999  35.290001  35.750000  1760500.0  35.709538\n",
              "2021-03-15  36.509998  35.689999  35.970001  36.500000  2083400.0  36.458691\n",
              "2021-03-16  36.919998  36.310001  36.430000  36.400002  2436700.0  36.358807\n",
              "2021-03-17  37.160000  36.000000  36.200001  36.990002  2142700.0  36.948139\n",
              "2021-03-18  36.480000  35.630001  36.330002  35.630001  1949200.0  35.589676\n",
              "2021-03-19  37.320000  35.959999  36.259998  37.110001  4509100.0  37.068001\n",
              "2021-03-22  38.520000  37.430000  37.529999  38.230000  3252700.0  38.230000\n",
              "2021-03-23  38.020000  36.910000  37.980000  37.009998  1889000.0  37.009998\n",
              "2021-03-24  37.330002  36.680000  37.209999  36.689999  1840600.0  36.689999\n",
              "2021-03-25  37.279999  36.369999  36.590000  37.090000  2208000.0  37.090000\n",
              "2021-03-26  38.590000  37.439999  37.439999  38.590000  1872300.0  38.590000\n",
              "2021-03-29  38.060001  37.369999  37.950001  37.770000  1896800.0  37.770000\n",
              "2021-03-30  37.639999  37.040001  37.209999  37.439999  1552800.0  37.439999\n",
              "2021-03-31  38.599998  37.759998  37.770000  38.330002  1539100.0  38.330002\n",
              "2021-04-01  39.360001  38.740002  38.750000  39.349998  1604400.0  39.349998\n",
              "\n",
              "[1069 rows x 6 columns]"
            ]
          },
          "metadata": {
            "tags": []
          },
          "execution_count": 3
        }
      ]
    },
    {
      "cell_type": "code",
      "metadata": {
        "colab": {
          "base_uri": "https://localhost:8080/"
        },
        "id": "pE2HHGVCQcJ1",
        "outputId": "b5561843-0bf3-4e67-9b9d-22ef2c5b85b7"
      },
      "source": [
        "df.shape"
      ],
      "execution_count": 4,
      "outputs": [
        {
          "output_type": "execute_result",
          "data": {
            "text/plain": [
              "(1069, 6)"
            ]
          },
          "metadata": {
            "tags": []
          },
          "execution_count": 4
        }
      ]
    },
    {
      "cell_type": "code",
      "metadata": {
        "colab": {
          "base_uri": "https://localhost:8080/",
          "height": 554
        },
        "id": "riUH-DCQQgtF",
        "outputId": "a3092281-967b-4513-9300-ca199750dab0"
      },
      "source": [
        "# Visualize the closing price history\n",
        "plt.figure(figsize=(16,8))\n",
        "plt.title('Closing Price History')\n",
        "plt.plot(df['Close'])\n",
        "plt.xlabel('Date', fontsize=14)\n",
        "plt.ylabel('Closing Price USD ($)', fontsize=14)\n",
        "plt.show()"
      ],
      "execution_count": 5,
      "outputs": [
        {
          "output_type": "display_data",
          "data": {
            "image/png": "[encoded data removed]",
            "text/plain": [
              "<Figure size 1152x576 with 1 Axes>"
            ]
          },
          "metadata": {
            "tags": []
          }
        }
      ]
    },
    {
      "cell_type": "code",
      "metadata": {
        "colab": {
          "base_uri": "https://localhost:8080/"
        },
        "id": "dx8qOM5sRUGN",
        "outputId": "c4371da6-b33e-4bef-d220-e0c02ca300de"
      },
      "source": [
        "# Create a new dataframe with only the 'Close' column\n",
        "data = df.filter(['Close'])\n",
        "dataset = data.values\n",
        "# Get the number of rows to train the model on\n",
        "training_data_len = math.ceil(len(dataset) * percent_of_data_to_train)\n",
        "\n",
        "training_data_len"
      ],
      "execution_count": 6,
      "outputs": [
        {
          "output_type": "execute_result",
          "data": {
            "text/plain": [
              "963"
            ]
          },
          "metadata": {
            "tags": []
          },
          "execution_count": 6
        }
      ]
    },
    {
      "cell_type": "code",
      "metadata": {
        "colab": {
          "base_uri": "https://localhost:8080/"
        },
        "id": "sBo0d8s9Rw2G",
        "outputId": "217ba7b4-f129-4857-caf5-a62d2715056b"
      },
      "source": [
        "# Scale the data so that each data point is a value between 0 and 1\n",
        "scaler = MinMaxScaler(feature_range=(0,1))\n",
        "scaled_data = scaler.fit_transform(dataset)\n",
        "\n",
        "scaled_data"
      ],
      "execution_count": 7,
      "outputs": [
        {
          "output_type": "execute_result",
          "data": {
            "text/plain": [
              "array([[0.00593749],\n",
              "       [0.0028125 ],\n",
              "       [0.00468749],\n",
              "       ...,\n",
              "       [0.83281243],\n",
              "       [0.86062503],\n",
              "       [0.89249993]])"
            ]
          },
          "metadata": {
            "tags": []
          },
          "execution_count": 7
        }
      ]
    },
    {
      "cell_type": "code",
      "metadata": {
        "colab": {
          "base_uri": "https://localhost:8080/"
        },
        "id": "JfEz0u_GSpDo",
        "outputId": "cd8a168a-8298-4970-b5aa-c64dde036d04"
      },
      "source": [
        "# Create the training data set\n",
        "# Create the scaled training data set\n",
        "train_data = scaled_data[0:training_data_len, :]\n",
        "days_training = training_days\n",
        "# Split the data into x_train and y_train data sets\n",
        "x_train = []\n",
        "y_train = []\n",
        "\n",
        "for i in range(days_training, len(train_data)):\n",
        "  x_train.append(train_data[i-days_training:i, 0])\n",
        "  y_train.append(train_data[i, 0])\n",
        "  if i <= (days_training + 1):\n",
        "    print(x_train)\n",
        "    print(y_train)\n",
        "    print()\n"
      ],
      "execution_count": 8,
      "outputs": [
        {
          "output_type": "stream",
          "text": [
            "[array([0.00593749, 0.0028125 , 0.00468749, 0.        , 0.01124999,\n",
            "       0.015625  , 0.0209375 , 0.01906249, 0.02625   , 0.019375  ,\n",
            "       0.02062499, 0.02500001, 0.02562499, 0.02781251, 0.03749999,\n",
            "       0.04343751, 0.06687501, 0.0875    , 0.0834375 , 0.07656249,\n",
            "       0.09062499, 0.10781249, 0.11187499, 0.10843751, 0.1109375 ,\n",
            "       0.09843749, 0.08968749, 0.08906251, 0.09281251, 0.09343749,\n",
            "       0.09999999, 0.11531248, 0.10843751, 0.12031251, 0.13499999,\n",
            "       0.13718751, 0.1315625 , 0.14812499, 0.1396875 , 0.15312498,\n",
            "       0.14968749, 0.15281251, 0.14500001, 0.14437499, 0.15      ,\n",
            "       0.138125  , 0.1396875 , 0.139375  , 0.139375  , 0.14968749,\n",
            "       0.14906251, 0.15093749, 0.1446875 , 0.12      , 0.136875  ,\n",
            "       0.139375  , 0.1590625 , 0.15437498, 0.15218749, 0.14812499])]\n",
            "[0.1453124837484216]\n",
            "\n",
            "[array([0.00593749, 0.0028125 , 0.00468749, 0.        , 0.01124999,\n",
            "       0.015625  , 0.0209375 , 0.01906249, 0.02625   , 0.019375  ,\n",
            "       0.02062499, 0.02500001, 0.02562499, 0.02781251, 0.03749999,\n",
            "       0.04343751, 0.06687501, 0.0875    , 0.0834375 , 0.07656249,\n",
            "       0.09062499, 0.10781249, 0.11187499, 0.10843751, 0.1109375 ,\n",
            "       0.09843749, 0.08968749, 0.08906251, 0.09281251, 0.09343749,\n",
            "       0.09999999, 0.11531248, 0.10843751, 0.12031251, 0.13499999,\n",
            "       0.13718751, 0.1315625 , 0.14812499, 0.1396875 , 0.15312498,\n",
            "       0.14968749, 0.15281251, 0.14500001, 0.14437499, 0.15      ,\n",
            "       0.138125  , 0.1396875 , 0.139375  , 0.139375  , 0.14968749,\n",
            "       0.14906251, 0.15093749, 0.1446875 , 0.12      , 0.136875  ,\n",
            "       0.139375  , 0.1590625 , 0.15437498, 0.15218749, 0.14812499]), array([0.0028125 , 0.00468749, 0.        , 0.01124999, 0.015625  ,\n",
            "       0.0209375 , 0.01906249, 0.02625   , 0.019375  , 0.02062499,\n",
            "       0.02500001, 0.02562499, 0.02781251, 0.03749999, 0.04343751,\n",
            "       0.06687501, 0.0875    , 0.0834375 , 0.07656249, 0.09062499,\n",
            "       0.10781249, 0.11187499, 0.10843751, 0.1109375 , 0.09843749,\n",
            "       0.08968749, 0.08906251, 0.09281251, 0.09343749, 0.09999999,\n",
            "       0.11531248, 0.10843751, 0.12031251, 0.13499999, 0.13718751,\n",
            "       0.1315625 , 0.14812499, 0.1396875 , 0.15312498, 0.14968749,\n",
            "       0.15281251, 0.14500001, 0.14437499, 0.15      , 0.138125  ,\n",
            "       0.1396875 , 0.139375  , 0.139375  , 0.14968749, 0.14906251,\n",
            "       0.15093749, 0.1446875 , 0.12      , 0.136875  , 0.139375  ,\n",
            "       0.1590625 , 0.15437498, 0.15218749, 0.14812499, 0.14531248])]\n",
            "[0.1453124837484216, 0.14593749803490946]\n",
            "\n"
          ],
          "name": "stdout"
        }
      ]
    },
    {
      "cell_type": "code",
      "metadata": {
        "id": "Ki1xP1Q8TitS"
      },
      "source": [
        "# Convert the x_train and y_train to numpy array\n",
        "x_train, y_train = np.array(x_train), np.array(y_train)"
      ],
      "execution_count": 9,
      "outputs": []
    },
    {
      "cell_type": "code",
      "metadata": {
        "colab": {
          "base_uri": "https://localhost:8080/"
        },
        "id": "07r03NuJUNCC",
        "outputId": "b0949089-6d49-48b2-bff5-089f9febf0d0"
      },
      "source": [
        "# Reshape the data (LSTM model is expecting 3 dimensional data)\n",
        "x_train = np.reshape(x_train, (x_train.shape[0], x_train.shape[1], 1))\n",
        "x_train.shape"
      ],
      "execution_count": 10,
      "outputs": [
        {
          "output_type": "execute_result",
          "data": {
            "text/plain": [
              "(903, 60, 1)"
            ]
          },
          "metadata": {
            "tags": []
          },
          "execution_count": 10
        }
      ]
    },
    {
      "cell_type": "code",
      "metadata": {
        "id": "0OR7Rqq3UmLq"
      },
      "source": [
        "# Build the LSTM model\n",
        "model = Sequential()\n",
        "model.add(LSTM(50, return_sequences=True, input_shape=(x_train.shape[1], 1)))\n",
        "model.add(LSTM(50, return_sequences=False))\n",
        "model.add(Dense(25))\n",
        "model.add(Dense(1))"
      ],
      "execution_count": 11,
      "outputs": []
    },
    {
      "cell_type": "code",
      "metadata": {
        "id": "chkYzv45VIXr"
      },
      "source": [
        "# Compile the model\n",
        "model.compile(optimizer='adam', loss='mean_squared_error')\n"
      ],
      "execution_count": 12,
      "outputs": []
    },
    {
      "cell_type": "code",
      "metadata": {
        "colab": {
          "base_uri": "https://localhost:8080/"
        },
        "id": "t7ATPF9bVTur",
        "outputId": "d86f1e36-43c1-471f-e3a6-5dcceb1a0e7c"
      },
      "source": [
        "# Train the model\n",
        "model.fit(x_train, y_train, batch_size=1, epochs=1)"
      ],
      "execution_count": 13,
      "outputs": [
        {
          "output_type": "stream",
          "text": [
            "903/903 [==============================] - 27s 26ms/step - loss: 0.0049\n"
          ],
          "name": "stdout"
        },
        {
          "output_type": "execute_result",
          "data": {
            "text/plain": [
              "<tensorflow.python.keras.callbacks.History at 0x7fcb889afe10>"
            ]
          },
          "metadata": {
            "tags": []
          },
          "execution_count": 13
        }
      ]
    },
    {
      "cell_type": "code",
      "metadata": {
        "id": "JzevWtz8VqNC"
      },
      "source": [
        "# Create the testing data set\n",
        "# Create a new array containing scaled values from index 1543 to 2003\n",
        "test_data = scaled_data[training_data_len - days_training: , :]\n",
        "# Create the data sets x_test and y_test\n",
        "x_test = []\n",
        "y_test = dataset[training_data_len:, :]\n",
        "for i in range(days_training, len(test_data)):\n",
        "  x_test.append(test_data[i-days_training:i, 0])\n",
        "  "
      ],
      "execution_count": 14,
      "outputs": []
    },
    {
      "cell_type": "code",
      "metadata": {
        "id": "n4qdibaOWbEk"
      },
      "source": [
        "# Convert the data to a numpy array\n",
        "x_test = np.array(x_test)"
      ],
      "execution_count": 15,
      "outputs": []
    },
    {
      "cell_type": "code",
      "metadata": {
        "id": "mJwPbrBeWkuX"
      },
      "source": [
        "# Reshape the data (need it to be 3 dimensional)\n",
        "x_test = np.reshape(x_test, (x_test.shape[0], x_test.shape[1], 1))"
      ],
      "execution_count": 16,
      "outputs": []
    },
    {
      "cell_type": "code",
      "metadata": {
        "id": "8yCc2jGjW66z"
      },
      "source": [
        "# Get the models predicted price values\n",
        "predictions = model.predict(x_test)\n",
        "# Unscale the values\n",
        "predictions = scaler.inverse_transform(predictions)\n",
        "# So we're wanting predictions to contain the same values as y_test dataset"
      ],
      "execution_count": 17,
      "outputs": []
    },
    {
      "cell_type": "code",
      "metadata": {
        "colab": {
          "base_uri": "https://localhost:8080/"
        },
        "id": "nXcV4BhEXXce",
        "outputId": "31af6f6f-f7ef-477f-c940-f1becc49d7c6"
      },
      "source": [
        "# Get the root mean squared error (RMSE)\n",
        "# ...evaluating performance of model based on standard deviation\n",
        "rmse = np.sqrt(np.mean(((predictions - y_test )**2)))\n",
        "# A value of 0.0 means that the values matched up perfectly.\n",
        "# A value between 1.0 and 5.0 is still 'ok', but obviously, a more\n",
        "# accurate value is better here.  Our results are as follows:\n",
        "rmse"
      ],
      "execution_count": 18,
      "outputs": [
        {
          "output_type": "execute_result",
          "data": {
            "text/plain": [
              "1.7018494522766556"
            ]
          },
          "metadata": {
            "tags": []
          },
          "execution_count": 18
        }
      ]
    },
    {
      "cell_type": "code",
      "metadata": {
        "colab": {
          "base_uri": "https://localhost:8080/",
          "height": 663
        },
        "id": "wHJG4Rk9YQoH",
        "outputId": "fd7641f1-c044-4b08-a5e3-3f40b663092e"
      },
      "source": [
        "# Plot the data\n",
        "train = data[:training_data_len]\n",
        "valid = data[training_data_len:]\n",
        "valid['Predictions'] = predictions\n",
        "# Visualize the data\n",
        "plt.figure(figsize=(16,8))\n",
        "plt.title('Model')\n",
        "plt.xlabel('Date', fontsize=18)\n",
        "plt.ylabel('Closing Price USD ($)', fontsize=14)\n",
        "plt.plot(train['Close'])\n",
        "plt.plot(valid[['Close', 'Predictions']])\n",
        "plt.legend(['Train', 'Val', 'Predictions'], loc='lower right')\n",
        "plt.show()"
      ],
      "execution_count": 19,
      "outputs": [
        {
          "output_type": "stream",
          "text": [
            "/usr/local/lib/python3.7/dist-packages/ipykernel_launcher.py:4: SettingWithCopyWarning: \n",
            "A value is trying to be set on a copy of a slice from a DataFrame.\n",
            "Try using .loc[row_indexer,col_indexer] = value instead\n",
            "\n",
            "See the caveats in the documentation: https://pandas.pydata.org/pandas-docs/stable/user_guide/indexing.html#returning-a-view-versus-a-copy\n",
            "  after removing the cwd from sys.path.\n"
          ],
          "name": "stderr"
        },
        {
          "output_type": "display_data",
          "data": {
            "image/png": "[encoded data removed]",
            "text/plain": [
              "<Figure size 1152x576 with 1 Axes>"
            ]
          },
          "metadata": {
            "tags": []
          }
        }
      ]
    },
    {
      "cell_type": "code",
      "metadata": {
        "colab": {
          "base_uri": "https://localhost:8080/",
          "height": 1000
        },
        "id": "Iep5wJmlaZnf",
        "outputId": "fd339a5b-3c05-411c-9c5c-dcc6e84a88b9"
      },
      "source": [
        "# Show the valid and predicted prices\n",
        "valid"
      ],
      "execution_count": 20,
      "outputs": [
        {
          "output_type": "execute_result",
          "data": {
            "text/html": [
              "<div>\n",
              "<style scoped>\n",
              "    .dataframe tbody tr th:only-of-type {\n",
              "        vertical-align: middle;\n",
              "    }\n",
              "\n",
              "    .dataframe tbody tr th {\n",
              "        vertical-align: top;\n",
              "    }\n",
              "\n",
              "    .dataframe thead th {\n",
              "        text-align: right;\n",
              "    }\n",
              "</style>\n",
              "<table border=\"1\" class=\"dataframe\">\n",
              "  <thead>\n",
              "    <tr style=\"text-align: right;\">\n",
              "      <th></th>\n",
              "      <th>Close</th>\n",
              "      <th>Predictions</th>\n",
              "    </tr>\n",
              "    <tr>\n",
              "      <th>Date</th>\n",
              "      <th></th>\n",
              "      <th></th>\n",
              "    </tr>\n",
              "  </thead>\n",
              "  <tbody>\n",
              "    <tr>\n",
              "      <th>2020-10-29</th>\n",
              "      <td>31.139999</td>\n",
              "      <td>33.247456</td>\n",
              "    </tr>\n",
              "    <tr>\n",
              "      <th>2020-10-30</th>\n",
              "      <td>30.540001</td>\n",
              "      <td>32.647324</td>\n",
              "    </tr>\n",
              "    <tr>\n",
              "      <th>2020-11-02</th>\n",
              "      <td>31.100000</td>\n",
              "      <td>32.087536</td>\n",
              "    </tr>\n",
              "    <tr>\n",
              "      <th>2020-11-03</th>\n",
              "      <td>32.150002</td>\n",
              "      <td>31.726259</td>\n",
              "    </tr>\n",
              "    <tr>\n",
              "      <th>2020-11-04</th>\n",
              "      <td>33.040001</td>\n",
              "      <td>31.684692</td>\n",
              "    </tr>\n",
              "    <tr>\n",
              "      <th>2020-11-05</th>\n",
              "      <td>34.070000</td>\n",
              "      <td>31.954290</td>\n",
              "    </tr>\n",
              "    <tr>\n",
              "      <th>2020-11-06</th>\n",
              "      <td>34.590000</td>\n",
              "      <td>32.509232</td>\n",
              "    </tr>\n",
              "    <tr>\n",
              "      <th>2020-11-09</th>\n",
              "      <td>35.080002</td>\n",
              "      <td>33.213009</td>\n",
              "    </tr>\n",
              "    <tr>\n",
              "      <th>2020-11-10</th>\n",
              "      <td>33.509998</td>\n",
              "      <td>33.966908</td>\n",
              "    </tr>\n",
              "    <tr>\n",
              "      <th>2020-11-11</th>\n",
              "      <td>34.580002</td>\n",
              "      <td>34.379051</td>\n",
              "    </tr>\n",
              "    <tr>\n",
              "      <th>2020-11-12</th>\n",
              "      <td>33.549999</td>\n",
              "      <td>34.723934</td>\n",
              "    </tr>\n",
              "    <tr>\n",
              "      <th>2020-11-13</th>\n",
              "      <td>34.349998</td>\n",
              "      <td>34.803322</td>\n",
              "    </tr>\n",
              "    <tr>\n",
              "      <th>2020-11-16</th>\n",
              "      <td>35.549999</td>\n",
              "      <td>34.861286</td>\n",
              "    </tr>\n",
              "    <tr>\n",
              "      <th>2020-11-17</th>\n",
              "      <td>35.259998</td>\n",
              "      <td>35.082157</td>\n",
              "    </tr>\n",
              "    <tr>\n",
              "      <th>2020-11-18</th>\n",
              "      <td>35.410000</td>\n",
              "      <td>35.300518</td>\n",
              "    </tr>\n",
              "    <tr>\n",
              "      <th>...</th>\n",
              "      <td>...</td>\n",
              "      <td>...</td>\n",
              "    </tr>\n",
              "    <tr>\n",
              "      <th>2021-03-12</th>\n",
              "      <td>35.750000</td>\n",
              "      <td>35.660660</td>\n",
              "    </tr>\n",
              "    <tr>\n",
              "      <th>2021-03-15</th>\n",
              "      <td>36.500000</td>\n",
              "      <td>35.876053</td>\n",
              "    </tr>\n",
              "    <tr>\n",
              "      <th>2021-03-16</th>\n",
              "      <td>36.400002</td>\n",
              "      <td>36.233986</td>\n",
              "    </tr>\n",
              "    <tr>\n",
              "      <th>2021-03-17</th>\n",
              "      <td>36.990002</td>\n",
              "      <td>36.589485</td>\n",
              "    </tr>\n",
              "    <tr>\n",
              "      <th>2021-03-18</th>\n",
              "      <td>35.630001</td>\n",
              "      <td>36.982979</td>\n",
              "    </tr>\n",
              "    <tr>\n",
              "      <th>2021-03-19</th>\n",
              "      <td>37.110001</td>\n",
              "      <td>37.105751</td>\n",
              "    </tr>\n",
              "    <tr>\n",
              "      <th>2021-03-22</th>\n",
              "      <td>38.230000</td>\n",
              "      <td>37.312645</td>\n",
              "    </tr>\n",
              "    <tr>\n",
              "      <th>2021-03-23</th>\n",
              "      <td>37.009998</td>\n",
              "      <td>37.697689</td>\n",
              "    </tr>\n",
              "    <tr>\n",
              "      <th>2021-03-24</th>\n",
              "      <td>36.689999</td>\n",
              "      <td>37.905777</td>\n",
              "    </tr>\n",
              "    <tr>\n",
              "      <th>2021-03-25</th>\n",
              "      <td>37.090000</td>\n",
              "      <td>37.941811</td>\n",
              "    </tr>\n",
              "    <tr>\n",
              "      <th>2021-03-26</th>\n",
              "      <td>38.590000</td>\n",
              "      <td>37.944347</td>\n",
              "    </tr>\n",
              "    <tr>\n",
              "      <th>2021-03-29</th>\n",
              "      <td>37.770000</td>\n",
              "      <td>38.167591</td>\n",
              "    </tr>\n",
              "    <tr>\n",
              "      <th>2021-03-30</th>\n",
              "      <td>37.439999</td>\n",
              "      <td>38.324314</td>\n",
              "    </tr>\n",
              "    <tr>\n",
              "      <th>2021-03-31</th>\n",
              "      <td>38.330002</td>\n",
              "      <td>38.373631</td>\n",
              "    </tr>\n",
              "    <tr>\n",
              "      <th>2021-04-01</th>\n",
              "      <td>39.349998</td>\n",
              "      <td>38.506195</td>\n",
              "    </tr>\n",
              "  </tbody>\n",
              "</table>\n",
              "<p>106 rows × 2 columns</p>\n",
              "</div>"
            ],
            "text/plain": [
              "                Close  Predictions\n",
              "Date                              \n",
              "2020-10-29  31.139999    33.247456\n",
              "2020-10-30  30.540001    32.647324\n",
              "2020-11-02  31.100000    32.087536\n",
              "2020-11-03  32.150002    31.726259\n",
              "2020-11-04  33.040001    31.684692\n",
              "2020-11-05  34.070000    31.954290\n",
              "2020-11-06  34.590000    32.509232\n",
              "2020-11-09  35.080002    33.213009\n",
              "2020-11-10  33.509998    33.966908\n",
              "2020-11-11  34.580002    34.379051\n",
              "2020-11-12  33.549999    34.723934\n",
              "2020-11-13  34.349998    34.803322\n",
              "2020-11-16  35.549999    34.861286\n",
              "2020-11-17  35.259998    35.082157\n",
              "2020-11-18  35.410000    35.300518\n",
              "...               ...          ...\n",
              "2021-03-12  35.750000    35.660660\n",
              "2021-03-15  36.500000    35.876053\n",
              "2021-03-16  36.400002    36.233986\n",
              "2021-03-17  36.990002    36.589485\n",
              "2021-03-18  35.630001    36.982979\n",
              "2021-03-19  37.110001    37.105751\n",
              "2021-03-22  38.230000    37.312645\n",
              "2021-03-23  37.009998    37.697689\n",
              "2021-03-24  36.689999    37.905777\n",
              "2021-03-25  37.090000    37.941811\n",
              "2021-03-26  38.590000    37.944347\n",
              "2021-03-29  37.770000    38.167591\n",
              "2021-03-30  37.439999    38.324314\n",
              "2021-03-31  38.330002    38.373631\n",
              "2021-04-01  39.349998    38.506195\n",
              "\n",
              "[106 rows x 2 columns]"
            ]
          },
          "metadata": {
            "tags": []
          },
          "execution_count": 20
        }
      ]
    },
    {
      "cell_type": "code",
      "metadata": {
        "id": "PkW-AOgvarF6"
      },
      "source": [
        "# Get the quote\n",
        "ticker_quote = web.DataReader(stock_ticker, data_source='yahoo', start=start_date, end=end_date)\n",
        "new_df = ticker_quote.filter(['Close'])\n",
        "# Get the last X day closing price values and convert the dataframe to an array\n",
        "last_X_days = new_df[-training_days:].values\n",
        "# Scale the data to be values bewteen 0 and 1\n",
        "last_X_days_scaled = scaler.transform(last_X_days)\n",
        "# Create an empty list\n",
        "X_test = []\n",
        "# Append the past X days\n",
        "X_test.append(last_X_days_scaled)\n",
        "X_test1 = np.array(X_test)\n",
        "# Reshape the data to be 3 dimensional\n",
        "X_test1 = np.reshape(X_test1, (X_test1.shape[0], X_test1.shape[1], 1))"
      ],
      "execution_count": 42,
      "outputs": []
    },
    {
      "cell_type": "code",
      "metadata": {
        "colab": {
          "base_uri": "https://localhost:8080/",
          "height": 256
        },
        "id": "EPfvDQPVVZzZ",
        "outputId": "90a6e676-2d9a-486c-984d-b06a0830deeb"
      },
      "source": [
        "#X_predictions = []\n",
        "#for i in range(30):\n",
        "  # Get the predicted price (scaled) from numpy.array()\n",
        "#  pred_price = model.predict(X_test1)\n",
        "#  print(X_test1.shape)\n",
        "  # Append the predicted price onto the end\n",
        "  # X_test = []\n",
        "  # Append the past X days\n",
        "#  last_X_days_scaled\n",
        "#  X_test.append(pred_price)\n",
        "#  print(X_test)\n",
        "#  X_test1 = np.array(X_test)\n",
        "#  X_test1 = np.reshape(X_test1, (X_test1.shape[0], X_test1.shape[1], 1))\n",
        "  # Undo the scaling\n",
        "#  X_predictions.append(scaler.inverse_transform(pred_price))\n",
        "\n",
        "#print(X_predictions)"
      ],
      "execution_count": 41,
      "outputs": [
        {
          "output_type": "stream",
          "text": [
            "(1, 60, 1)\n"
          ],
          "name": "stdout"
        },
        {
          "output_type": "error",
          "ename": "AttributeError",
          "evalue": "ignored",
          "traceback": [
            "\u001b[0;31m---------------------------------------------------------------------------\u001b[0m",
            "\u001b[0;31mAttributeError\u001b[0m                            Traceback (most recent call last)",
            "\u001b[0;32m<ipython-input-41-137fbe368c5e>\u001b[0m in \u001b[0;36m<module>\u001b[0;34m()\u001b[0m\n\u001b[1;32m      8\u001b[0m   \u001b[0;31m# Append the past X days\u001b[0m\u001b[0;34m\u001b[0m\u001b[0;34m\u001b[0m\u001b[0;34m\u001b[0m\u001b[0m\n\u001b[1;32m      9\u001b[0m   \u001b[0;31m# X_test.append(last_X_days_scaled)\u001b[0m\u001b[0;34m\u001b[0m\u001b[0;34m\u001b[0m\u001b[0;34m\u001b[0m\u001b[0m\n\u001b[0;32m---> 10\u001b[0;31m   \u001b[0mX_test\u001b[0m\u001b[0;34m[\u001b[0m\u001b[0;36m0\u001b[0m\u001b[0;34m]\u001b[0m\u001b[0;34m.\u001b[0m\u001b[0mappend\u001b[0m\u001b[0;34m(\u001b[0m\u001b[0mpred_price\u001b[0m\u001b[0;34m)\u001b[0m\u001b[0;34m\u001b[0m\u001b[0;34m\u001b[0m\u001b[0m\n\u001b[0m\u001b[1;32m     11\u001b[0m   \u001b[0mprint\u001b[0m\u001b[0;34m(\u001b[0m\u001b[0mX_test\u001b[0m\u001b[0;34m)\u001b[0m\u001b[0;34m\u001b[0m\u001b[0;34m\u001b[0m\u001b[0m\n\u001b[1;32m     12\u001b[0m   \u001b[0mX_test1\u001b[0m \u001b[0;34m=\u001b[0m \u001b[0mnp\u001b[0m\u001b[0;34m.\u001b[0m\u001b[0marray\u001b[0m\u001b[0;34m(\u001b[0m\u001b[0mX_test\u001b[0m\u001b[0;34m)\u001b[0m\u001b[0;34m\u001b[0m\u001b[0;34m\u001b[0m\u001b[0m\n",
            "\u001b[0;31mAttributeError\u001b[0m: 'numpy.ndarray' object has no attribute 'append'"
          ]
        }
      ]
    },
    {
      "cell_type": "code",
      "metadata": {
        "colab": {
          "base_uri": "https://localhost:8080/"
        },
        "id": "Pj_-VQibkeQn",
        "outputId": "3f626b42-3dab-47c7-ded8-bf1d532a3480"
      },
      "source": [
        "ticker_quote2 = web.DataReader(stock_ticker, data_source='yahoo', start=end_date, end=end_date)\n",
        "ticker_quote2['Close']"
      ],
      "execution_count": 43,
      "outputs": [
        {
          "output_type": "execute_result",
          "data": {
            "text/plain": [
              "Date\n",
              "2021-04-01    39.349998\n",
              "2021-04-01    39.349998\n",
              "Name: Close, dtype: float64"
            ]
          },
          "metadata": {
            "tags": []
          },
          "execution_count": 43
        }
      ]
    }
  ]
}